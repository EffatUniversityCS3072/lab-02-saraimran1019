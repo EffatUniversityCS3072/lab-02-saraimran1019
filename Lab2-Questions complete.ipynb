{
 "cells": [
  {
   "cell_type": "markdown",
   "id": "582fd51e",
   "metadata": {},
   "source": [
    "# Lab 2: numpy\n",
    "\n",
    "#### Practice Exercise 1\n",
    "\n",
    "Create the following NumPy arrays: \n",
    "1. A 1-D array called zeros having 10 elements and all the elements are set to zero. \n",
    "2. A 1-D array called vowels having the elements ‘a’, ‘e’, ‘i’, ‘o’ and ‘u’. \n",
    "3. A 2-D array called ones having 2 rows and 5 columns and all the elements are set to 1 and dtype as int. \n",
    "4. Use nested Python lists to create a 2-D array called myarray1 having 3 rows and 3 columns and store the following data: 2.7,  0,  -2,  3.4,  10.6,  0,  -19 99.9 13 \n",
    "5. A 2-D array called myarray2 using arange() having 3 rows and 5 columns with start value = 4, step size 4 and dtype as float\n"
   ]
  },
  {
   "cell_type": "code",
   "execution_count": 29,
   "id": "9195d139",
   "metadata": {},
   "outputs": [
    {
     "data": {
      "text/plain": [
       "array([[ 4,  8, 12, 16, 20],\n",
       "       [24, 28, 32, 36, 40],\n",
       "       [44, 48, 52, 56, 60]])"
      ]
     },
     "execution_count": 29,
     "metadata": {},
     "output_type": "execute_result"
    }
   ],
   "source": [
    "# Write your answer here\n",
    "import numpy as np\n",
    "q1 = zeros = np.zeros(10)\n",
    "zeros\n",
    "q2 = vowels = np.array(['a','e','i','o','u'])\n",
    "vowels\n",
    "q3 = ones = np.ones(10, dtype=int).reshape(2,5)\n",
    "ones\n",
    "q4 = myarray = np.array([[2.7, 0, -2], [3.4, 10.6, 0], [-19, 99.9, 13]])\n",
    "myarray\n",
    "q5 = myarray2 = np.arange(4, 4+15*4, 4).reshape(3,5)\n",
    "myarray2"
   ]
  },
  {
   "cell_type": "markdown",
   "id": "2d3fc3a8",
   "metadata": {},
   "source": [
    "Using the arrays created in Question above, write NumPy commands for the following: \n",
    "1. Find the dimensions, shape, size, data type of the items and itemsize of arrays zeros, vowels, ones, myarray1 and myarray2. \n",
    "2. Reshape the array ones to have all the 10 elements in a single row. \n",
    "3. Display the 2nd and 3rd element of the array vowels. \n",
    "4. Display all elements in the 2nd and 3rd row of the array myarray1. \n",
    "5. Display the elements in the 1st and 2nd column of the array myarray1. \n",
    "6. Display the elements in the 1st column of the 2nd and 3rd row of the array myarray1. \n",
    "7. Reverse the array of vowels."
   ]
  },
  {
   "cell_type": "code",
   "execution_count": 65,
   "id": "fc69c3db",
   "metadata": {},
   "outputs": [
    {
     "name": "stdout",
     "output_type": "stream",
     "text": [
      "[[  2.7   0.   -2. ]\n",
      " [  3.4  10.6   0. ]\n",
      " [-19.   99.9  13. ]]\n"
     ]
    },
    {
     "data": {
      "text/plain": [
       "array(['u', 'o', 'i', 'e', 'a'], dtype='<U1')"
      ]
     },
     "execution_count": 65,
     "metadata": {},
     "output_type": "execute_result"
    }
   ],
   "source": [
    "#Write your answer here            dtype.type --> if you dont want to show 'dtype' in result\n",
    "q1 = myarray2.shape, myarray2.size, myarray2.ndim, myarray2.dtype.type, myarray2.itemsize\n",
    "q2 = ones.reshape(1,10)\n",
    "q3 = vowels[1:3]\n",
    "q4 = myarray[1:3 , : ]\n",
    "print(myarray)\n",
    "q5 = myarray[ :  , 0:2]\n",
    "q6 = myarray[ 1:3 , 0:1]\n",
    "q7 = vowels[::-1]"
   ]
  },
  {
   "cell_type": "markdown",
   "id": "e1edb3bb",
   "metadata": {},
   "source": [
    "Using the arrays created in Question above, write NumPy commands for the following:\n",
    "1. Divide all elements of array ones by 3. \n",
    "2. Add the arrays myarray1 and myarray2. \n",
    "3. Subtract myarray1 from myarray2 and store the result in a new array. \n",
    "4. Multiply myarray1 and myarray2 elementwise. \n",
    "5. Do the matrix multiplication of myarray1 and myarray2 and store the result in a new array myarray3. \n",
    "6. Divide myarray1 by myarray2. \n",
    "7. Find the cube of all elements of myarray1 and divide the resulting array by 2. \n",
    "8. Find the square root of all elements of myarray2   and divide the resulting array by 2. The result  should be rounded to two places of decimals."
   ]
  },
  {
   "cell_type": "code",
   "execution_count": 185,
   "id": "3c933386",
   "metadata": {},
   "outputs": [
    {
     "data": {
      "text/plain": [
       "array([[ 0.675     ,  0.        , -0.16666667],\n",
       "       [ 0.14166667,  0.37857143,  0.        ],\n",
       "       [-0.43181818,  2.08125   ,  0.25      ]])"
      ]
     },
     "execution_count": 185,
     "metadata": {},
     "output_type": "execute_result"
    }
   ],
   "source": [
    "# Write your answer here\n",
    "q1 = ones/3\n",
    "# myarray.shape, myarray2.shape\n",
    "q2 = myarray + myarray2[ : , 0:3]\n",
    "q3 = arr5 = myarray - myarray2[:, :3]\n",
    "arr5\n",
    "q4 = myarray * myarray2[ : , 0:3]\n",
    "q5 = result = myarray2.T.dot(myarray)\n",
    "result\n",
    "q6 = myarray / myarray2[:, :3]\n",
    "q7 = (myarray**3)/2\n",
    "q8 = np.round( (np.sqrt(myarray2))/2, 2 )"
   ]
  },
  {
   "cell_type": "markdown",
   "id": "d8aafc74",
   "metadata": {},
   "source": [
    "Using the arrays created above, write NumPy commands for the following: \n",
    "1. Find the transpose of ones and myarray2. \n",
    "2. Sort the array vowels in reverse. \n",
    "3. Sort the array myarray1 such that it brings the lowest value of the column in the first row and so on."
   ]
  },
  {
   "cell_type": "code",
   "execution_count": 95,
   "id": "573c6506",
   "metadata": {},
   "outputs": [
    {
     "data": {
      "text/plain": [
       "array([[ -2. ,   0. ,   2.7],\n",
       "       [  0. ,   3.4,  10.6],\n",
       "       [-19. ,  13. ,  99.9]])"
      ]
     },
     "execution_count": 95,
     "metadata": {},
     "output_type": "execute_result"
    }
   ],
   "source": [
    "# Write your answer here\n",
    "q1 = np.transpose(myarray2) #myarray2.T\n",
    "q2 = vowels[::-1]\n",
    "q3 = np.sort(myarray,1)  # 1 for sorting by row, and 0 for sorting by column"
   ]
  },
  {
   "cell_type": "markdown",
   "id": "93546856",
   "metadata": {},
   "source": [
    "Create a 2-D array called myarray4 using arange() having 14 rows and 3 columns with start value = -1, step size 0.25 having. Split this array row wise into 3 equal parts and print the result. "
   ]
  },
  {
   "cell_type": "code",
   "execution_count": 103,
   "id": "441dd934",
   "metadata": {},
   "outputs": [
    {
     "data": {
      "text/plain": [
       "array([[-1.  , -0.75, -0.5 ],\n",
       "       [-0.25,  0.  ,  0.25],\n",
       "       [ 0.5 ,  0.75,  1.  ],\n",
       "       [ 1.25,  1.5 ,  1.75],\n",
       "       [ 2.  ,  2.25,  2.5 ],\n",
       "       [ 2.75,  3.  ,  3.25],\n",
       "       [ 3.5 ,  3.75,  4.  ],\n",
       "       [ 4.25,  4.5 ,  4.75],\n",
       "       [ 5.  ,  5.25,  5.5 ],\n",
       "       [ 5.75,  6.  ,  6.25],\n",
       "       [ 6.5 ,  6.75,  7.  ],\n",
       "       [ 7.25,  7.5 ,  7.75],\n",
       "       [ 8.  ,  8.25,  8.5 ],\n",
       "       [ 8.75,  9.  ,  9.25]])"
      ]
     },
     "execution_count": 103,
     "metadata": {},
     "output_type": "execute_result"
    }
   ],
   "source": [
    "# Write your answer here\n",
    "myarray4 = np.arange(-1, -1+42*0.25 , 0.25).reshape(14,3)\n",
    "myarray4\n"
   ]
  },
  {
   "cell_type": "markdown",
   "id": "c8cdbaff",
   "metadata": {},
   "source": [
    "Using the myarray4 created in the above questions, write commands for the following: \n",
    "1. Find the sum of all elements. \n",
    "2. Find the sum of all elements row wise\n",
    "3. Find the sum of all elements column wise. \n",
    "4. Find the max of all elements. \n",
    "5. Find the min of all elements in each row. \n",
    "6. Find the mean of all elements in each row. \n",
    "7. Find the standard deviation column wise."
   ]
  },
  {
   "cell_type": "code",
   "execution_count": 125,
   "id": "66af8b55",
   "metadata": {},
   "outputs": [
    {
     "data": {
      "text/plain": [
       "array([3.875, 4.125, 4.375])"
      ]
     },
     "execution_count": 125,
     "metadata": {},
     "output_type": "execute_result"
    }
   ],
   "source": [
    "# Write your ansewr here\n",
    "q1 = np.sum(myarray4)\n",
    "q2 = np.sum(myarray4,axis = 0) # 0 for rows\n",
    "q3 = np.sum(myarray4,axis = 1) #1 for column\n",
    "q4 = np.max(myarray4)\n",
    "q5 = np.min(myarray4,axis = 0)\n",
    "q6 = np.mean(myarray4, axis =0)\n",
    "q7 = np.std(myarray4,axis = 1)"
   ]
  },
  {
   "cell_type": "markdown",
   "id": "8d7e1dca",
   "metadata": {},
   "source": [
    "#### Practice Exercise 2\n",
    "Read the coordinates of the capital cities of the world from the country-capital-lat-long-population.csv file. Use NumPy to print the name and coordinates of the capital city closest to the Saudi Arabia capital - Riyadh.\n",
    "\n",
    "Note that:\n",
    "\n",
    "1. The Country Name for Saudi Arabia is given as Saudi Arabia in the data.\n",
    "2. The ‘closeness’ of capital cities from the Saudi Arabia capital is based on the Euclidean distance of their coordinates to those of the Saudi Arabia capital.\n",
    "\n",
    "\n",
    "Hints:\n",
    "\n",
    "1. Use read_html() from the Pandas library to read the table.\n",
    "2. Use the to_numpy() function of the Pandas DataFrame class to convert a DataFrame to a Numpy array\n",
    "3. Use broadcasting to compute the euclidean distance of capital cities from Riyadh."
   ]
  },
  {
   "cell_type": "code",
   "execution_count": 54,
   "id": "ab6b9725",
   "metadata": {},
   "outputs": [
    {
     "name": "stdout",
     "output_type": "stream",
     "text": [
      "Capital: Al-Manamah (Manama) , Bahrain\n",
      "Coordinates: 26.2154, 50.5832\n"
     ]
    }
   ],
   "source": [
    "# Write your answer here\n",
    "\n",
    "import os\n",
    "os.getcwd()\n",
    "import pandas as pd\n",
    "import numpy as np\n",
    "capital = pd.read_csv('country-capital-lat-long-population.csv')\n",
    "capital\n",
    "\n",
    "riyadh = capital[capital['Country'] == 'Saudi Arabia'][['Latitude', 'Longitude']].values[0] # riyadh coordinates\n",
    "distances = np.sqrt(np.sum((capital[['Latitude', 'Longitude']].astype(float) - riyadh) ** 2, axis=1)) # Euclidean distances\n",
    "closest_index = np.argsort(distances)[1]  # 1 cuz if its 0 then it would be riyadh \n",
    "closest_capital = capital.iloc[closest_index] # location of the closest capital\n",
    "\n",
    "print(f\"Capital: {closest_capital['Capital City']}\", f\", {closest_capital['Country']}\")\n",
    "print(f\"Coordinates: {closest_capital['Latitude']}, {closest_capital['Longitude']}\")\n"
   ]
  },
  {
   "cell_type": "markdown",
   "id": "1fdbec05",
   "metadata": {},
   "source": [
    "#### Practical Exercise 2\n",
    "\n",
    "Use NumPy to:\n",
    "\n",
    "1. Print the names of the countries of the top 10 capital cities closest to the US capital - Washington DC.\n",
    "\n",
    "2. Create and print a NumPy array containing the coordinates of the top 10 cities."
   ]
  },
  {
   "cell_type": "code",
   "execution_count": 56,
   "id": "45046a85",
   "metadata": {},
   "outputs": [
    {
     "data": {
      "text/plain": [
       "148               New Caledonia\n",
       "149                 New Zealand\n",
       "150                   Nicaragua\n",
       "151                       Niger\n",
       "152                     Nigeria\n",
       "153                        Niue\n",
       "154    Northern Mariana Islands\n",
       "155                      Norway\n",
       "156                        Oman\n",
       "157                    Pakistan\n",
       "Name: Country, dtype: object"
      ]
     },
     "execution_count": 56,
     "metadata": {},
     "output_type": "execute_result"
    }
   ],
   "source": [
    "# 1\n",
    "import os\n",
    "os.getcwd()\n",
    "import pandas as pd\n",
    "import numpy as np\n",
    "capital = pd.read_csv('country-capital-lat-long-population.csv')\n",
    "capital\n",
    "\n",
    "washington_dc = capital[capital['Capital City'] == 'Washington'][['Latitude', 'Longitude']] # washington coordinates\n",
    "distances = np.sqrt(np.sum((capital[['Latitude', 'Longitude']].astype(float) - washington_dc) ** 2, axis=1)) # Euclidean distances\n",
    "countries10 = capital['Country'][np.argsort(distances)[1:11]] # top 10 countries closest to washington\n",
    "countries10\n",
    "\n"
   ]
  },
  {
   "cell_type": "code",
   "execution_count": 58,
   "id": "f2539849-0712-4f11-8074-a427e57e584a",
   "metadata": {},
   "outputs": [
    {
     "data": {
      "text/plain": [
       "array([[ -22.2763,  166.4572],\n",
       "       [ -41.2866,  174.7756],\n",
       "       [  12.1328,  -86.2504],\n",
       "       [  13.5137,    2.1098],\n",
       "       [   9.0574,    7.4898],\n",
       "       [ -19.0585, -169.9213],\n",
       "       [  15.2123,  145.7545],\n",
       "       [  59.9127,   10.7461],\n",
       "       [  23.6139,   58.5922],\n",
       "       [  33.7035,   73.0594]])"
      ]
     },
     "execution_count": 58,
     "metadata": {},
     "output_type": "execute_result"
    }
   ],
   "source": [
    "# 2\n",
    "import numpy as np\n",
    "capital = pd.read_csv('country-capital-lat-long-population.csv')\n",
    "\n",
    "washington_dc = capital[capital['Capital City'] == 'Washington'][['Latitude', 'Longitude']]\n",
    "distances = np.sqrt(np.sum((capital[['Latitude', 'Longitude']].astype(float) - washington_dc) ** 2, axis=1)) \n",
    "indices = np.argsort(distances)[1:11] \n",
    "coordinates_10 = capital.iloc[indices][['Latitude', 'Longitude']].to_numpy() # converting to NumPy array \n",
    "\n",
    "coordinates_10"
   ]
  },
  {
   "cell_type": "code",
   "execution_count": null,
   "id": "3a2fbeb9-1d52-4d89-be7c-eb02dae1a207",
   "metadata": {},
   "outputs": [],
   "source": []
  }
 ],
 "metadata": {
  "kernelspec": {
   "display_name": "Python 3 (ipykernel)",
   "language": "python",
   "name": "python3"
  },
  "language_info": {
   "codemirror_mode": {
    "name": "ipython",
    "version": 3
   },
   "file_extension": ".py",
   "mimetype": "text/x-python",
   "name": "python",
   "nbconvert_exporter": "python",
   "pygments_lexer": "ipython3",
   "version": "3.12.4"
  }
 },
 "nbformat": 4,
 "nbformat_minor": 5
}
